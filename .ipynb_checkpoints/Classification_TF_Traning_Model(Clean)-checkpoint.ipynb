{
 "cells": [
  {
   "cell_type": "code",
   "execution_count": null,
   "metadata": {
    "id": "uvKOE1eY2KM3"
   },
   "outputs": [],
   "source": [
    "import matplotlib.pyplot as plt\n",
    "import numpy as np\n",
    "from sklearn.metrics import *\n",
    "import seaborn as sns\n",
    "import PIL\n",
    "import tensorflow as tf\n",
    "from keras.callbacks import ModelCheckpoint, TensorBoard, CSVLogger\n",
    "from tensorflow.keras.callbacks import ModelCheckpoint\n",
    "from tensorflow import keras\n",
    "from tensorflow.keras import layers\n",
    "from tensorflow.keras.layers import *\n",
    "from tensorflow.keras.applications import *\n",
    "from tensorflow.keras.models import Model\n",
    "from tensorflow.keras.optimizers import *\n",
    "import os\n",
    "print(\"tf Version = \",tf.__version__)\n",
    "print(\"Num GPUs Available: \", len(tf.config.list_physical_devices('GPU')))"
   ]
  },
  {
   "cell_type": "code",
   "execution_count": 2,
   "metadata": {
    "id": "ZPSUUiHw3Nu2"
   },
   "outputs": [],
   "source": [
    "batch_size = 32\n",
    "img_height = 224\n",
    "img_width = 224\n",
    "data_dir = 'datasets/dogcat/'"
   ]
  },
  {
   "cell_type": "code",
   "execution_count": null,
   "metadata": {
    "id": "v9uDCa563bOV"
   },
   "outputs": [],
   "source": [
    "train_ds = tf.keras.utils.image_dataset_from_directory(\n",
    "    data_dir,\n",
    "    validation_split=0.3,  # First split: 70% training, 30% for val+test\n",
    "    subset=\"training\",\n",
    "    seed=123,\n",
    "    image_size=(img_height, img_width),\n",
    "    batch_size=batch_size\n",
    ")"
   ]
  },
  {
   "cell_type": "code",
   "execution_count": null,
   "metadata": {},
   "outputs": [],
   "source": [
    "remaining_ds = tf.keras.utils.image_dataset_from_directory(\n",
    "    data_dir,\n",
    "    validation_split=0.3,  # Taking the remaining 30%\n",
    "    subset=\"validation\",\n",
    "    seed=123,\n",
    "    image_size=(img_height, img_width),\n",
    "    batch_size=batch_size\n",
    ")"
   ]
  },
  {
   "cell_type": "code",
   "execution_count": 5,
   "metadata": {
    "id": "_z5Np-zV825N"
   },
   "outputs": [],
   "source": [
    "val_batches = tf.data.experimental.cardinality(remaining_ds) // 2\n",
    "test_batches = val_batches"
   ]
  },
  {
   "cell_type": "code",
   "execution_count": 6,
   "metadata": {
    "id": "Kc786lx985zA"
   },
   "outputs": [],
   "source": [
    "val_ds = remaining_ds.take(val_batches)\n",
    "test_ds = remaining_ds.skip(val_batches)"
   ]
  },
  {
   "cell_type": "code",
   "execution_count": null,
   "metadata": {
    "id": "HTeAUf-J_uMF"
   },
   "outputs": [],
   "source": [
    "class_names = train_ds.class_names\n",
    "num_classes = len(class_names)\n",
    "print('ชื่อคลาส: ',class_names)\n",
    "print('จำนวนคลาส: ',num_classes)"
   ]
  },
  {
   "cell_type": "code",
   "execution_count": null,
   "metadata": {
    "id": "aXt0V5Y99Iqy"
   },
   "outputs": [],
   "source": [
    "plt.figure(figsize=(10, 10))\n",
    "for images, labels in train_ds.take(1):\n",
    "  for i in range(9):\n",
    "    ax = plt.subplot(3, 3, i + 1)\n",
    "    plt.imshow(images[i].numpy().astype(\"uint8\"))\n",
    "    plt.title(class_names[labels[i]])\n",
    "    plt.axis(\"off\")\n",
    "\n",
    "for image_batch, labels_batch in train_ds:\n",
    "  print(image_batch.shape)\n",
    "  print(labels_batch.shape)\n",
    "  break"
   ]
  },
  {
   "cell_type": "code",
   "execution_count": 9,
   "metadata": {
    "id": "AE9xoggK9NSw"
   },
   "outputs": [],
   "source": [
    "AUTOTUNE = tf.data.AUTOTUNE\n",
    "train_ds = train_ds.cache().shuffle(1000).prefetch(buffer_size=AUTOTUNE)\n",
    "val_ds = val_ds.cache().prefetch(buffer_size=AUTOTUNE)\n",
    "test_ds = test_ds.cache().prefetch(buffer_size=AUTOTUNE)"
   ]
  },
  {
   "cell_type": "code",
   "execution_count": 10,
   "metadata": {
    "id": "Cya-pHpu9XML"
   },
   "outputs": [],
   "source": [
    "normalization_layer = layers.Rescaling(1./224)\n",
    "train_ds = train_ds.map(lambda x, y: (normalization_layer(x), y))\n",
    "val_ds = val_ds.map(lambda x, y: (normalization_layer(x), y))\n",
    "test_ds = test_ds.map(lambda x, y: (normalization_layer(x), y))"
   ]
  },
  {
   "cell_type": "code",
   "execution_count": null,
   "metadata": {
    "id": "SqOavrfA-fdZ"
   },
   "outputs": [],
   "source": [
    "normalized_ds = train_ds.map(lambda x, y: (normalization_layer(x), y))\n",
    "image_batch, labels_batch = next(iter(normalized_ds))\n",
    "first_image = image_batch[0]\n",
    "# Notice the pixel values are now in `[0,1]`.\n",
    "print(np.min(first_image), np.max(first_image))"
   ]
  },
  {
   "cell_type": "code",
   "execution_count": null,
   "metadata": {
    "id": "jjwckRkP_K1a"
   },
   "outputs": [],
   "source": [
    "# จำนวนคลาสในงานจำแนกประเภท\n",
    "num_classes = len(class_names)\n",
    "# สร้าง input layer สำหรับรูปภาพขนาด (img_height, img_width, 3)\n",
    "inputs = Input(shape=(img_height, img_width, 3))\n",
    "\n",
    "base_model = MobileNetV2(weights='imagenet', include_top=False)\n",
    "base_model.trainable = False  # Freeze layers ของ EfficientNetB0\n",
    "\n",
    "x = base_model(inputs, training=False)\n",
    "# x = Flatten()(x)\n",
    "x = Conv2D(32, (3, 3), activation='relu', padding='same')(x)\n",
    "x = MaxPooling2D((2, 2))(x)\n",
    "x = GlobalAveragePooling2D()(x)\n",
    "x = BatchNormalization()(x)\n",
    "x = Dense(128, activation='relu')(x)\n",
    "x = Dropout(0.4)(x)\n",
    "x = Dense(64, activation='relu')(x)\n",
    "x = Dropout(0.2)(x)\n",
    "outputs = Dense(num_classes, activation='softmax')(x) # Output layer สำหรับจำแนกจำนวนคลาส\n",
    "\n",
    "# สร้างโมเดลโดยกำหนด inputs และ outputs\n",
    "model = Model(inputs=inputs, outputs=outputs)\n",
    "# คอมไพล์โมเดล\n",
    "model.compile(optimizer='adamw',\n",
    "              loss='sparse_categorical_crossentropy',\n",
    "              metrics=['accuracy'])\n",
    "\n",
    "model.summary()"
   ]
  },
  {
   "cell_type": "code",
   "execution_count": null,
   "metadata": {
    "id": "cip6242vA7rF",
    "scrolled": true
   },
   "outputs": [],
   "source": [
    "model_save_path = 'models/MobileNetV2_DogCat_100Epochs.keras'\n",
    "\n",
    "epochs = 100\n",
    "checkpoint = ModelCheckpoint(\n",
    "    filepath=model_save_path,  # ตำแหน่งไฟล์\n",
    "    monitor='val_loss',       # เมตริกที่ใช้ในการตรวจสอบ (เช่น val_loss หรือ val_accuracy)\n",
    "    save_best_only=True,      # บันทึกเฉพาะโมเดลที่ดีที่สุด\n",
    "    save_weights_only=False,  # บันทึกทั้งโมเดล (ไม่ใช่แค่ weights)\n",
    "    mode='min',               # เลือกโมเดลที่มีค่าต่ำสุดสำหรับ val_loss\n",
    "    verbose=1                 # แสดงข้อความเมื่อบันทึก\n",
    ")\n",
    "\n",
    "history = model.fit(\n",
    "    train_ds,\n",
    "    validation_data=val_ds,\n",
    "    epochs=epochs,\n",
    "    callbacks=[checkpoint]\n",
    ")"
   ]
  },
  {
   "cell_type": "code",
   "execution_count": null,
   "metadata": {},
   "outputs": [],
   "source": [
    "test_loss, test_accuracy = model.evaluate(test_ds)\n",
    "print(f\"\\nTest accuracy: {test_accuracy:.4f}\")"
   ]
  },
  {
   "cell_type": "code",
   "execution_count": null,
   "metadata": {
    "id": "mGmqy3sFBRRE"
   },
   "outputs": [],
   "source": [
    "os.makedirs('validpic', exist_ok=True)\n",
    "\n",
    "acc = history.history['accuracy']\n",
    "val_acc = history.history['val_accuracy']\n",
    "loss = history.history['loss']\n",
    "val_loss = history.history['val_loss']\n",
    "\n",
    "epochs_range = range(epochs)\n",
    "\n",
    "plt.figure(figsize=(20, 5))\n",
    "plt.subplot(1, 2, 1)\n",
    "plt.plot(epochs_range, acc, label='Training Accuracy')\n",
    "plt.plot(epochs_range, val_acc, label='Validation Accuracy')\n",
    "plt.legend(loc='lower right')\n",
    "plt.title('Training and Validation Accuracy')\n",
    "\n",
    "plt.subplot(1, 2, 2)\n",
    "plt.plot(epochs_range, loss, label='Training Loss')\n",
    "plt.plot(epochs_range, val_loss, label='Validation Loss')\n",
    "plt.legend(loc='upper right')\n",
    "plt.title('Training and Validation Loss')\n",
    "plt.savefig('validpic/training_vs_validation.png')\n",
    "plt.show()"
   ]
  },
  {
   "cell_type": "code",
   "execution_count": null,
   "metadata": {
    "id": "SqSseAWXZNb6"
   },
   "outputs": [],
   "source": [
    "os.makedirs('validpic', exist_ok=True)\n",
    "\n",
    "y_pred = model.predict(test_ds)\n",
    "y_pred_classes = np.argmax(y_pred, axis=1)\n",
    "\n",
    "\n",
    "y_true = []\n",
    "for _, labels in test_ds:\n",
    "    y_true.extend(labels.numpy())\n",
    "y_true = np.array(y_true)\n",
    "\n",
    "\n",
    "cm = confusion_matrix(y_true, y_pred_classes)\n",
    "\n",
    "\n",
    "fig, ax = plt.subplots(figsize=(10, 8))\n",
    "disp = ConfusionMatrixDisplay(confusion_matrix=cm, display_labels=class_names)\n",
    "disp.plot(ax=ax, cmap=plt.cm.Blues)\n",
    "plt.title('Confusion Matrix')\n",
    "plt.savefig('validpic/confusion_matrix.png')\n",
    "plt.show()"
   ]
  },
  {
   "cell_type": "code",
   "execution_count": null,
   "metadata": {
    "id": "kcZkk2owZ9SB"
   },
   "outputs": [],
   "source": [
    "y_pred = model.predict(test_ds)\n",
    "y_pred_classes = np.argmax(y_pred, axis=1)\n",
    "\n",
    "\n",
    "y_true = []\n",
    "for _, labels in test_ds:\n",
    "    y_true.extend(labels.numpy())\n",
    "y_true = np.array(y_true)\n",
    "\n",
    "\n",
    "precision = dict()\n",
    "recall = dict()\n",
    "average_precision = dict()\n",
    "for i in range(num_classes):\n",
    "    precision[i], recall[i], _ = precision_recall_curve(y_true == i, y_pred[:, i])\n",
    "    average_precision[i] = average_precision_score(y_true == i, y_pred[:, i])\n",
    "\n",
    "\n",
    "plt.figure(figsize=(10, 8))\n",
    "for i in range(num_classes):\n",
    "    plt.plot(recall[i], precision[i], lw=2, label=f'{class_names[i]} (Average = {average_precision[i]:.2f})')\n",
    "plt.xlabel(\"Recall\")\n",
    "plt.ylabel(\"Precision\")\n",
    "plt.title(\"Precision-Recall curve\")\n",
    "plt.legend(loc='lower left', bbox_to_anchor=(0, 1))\n",
    "plt.savefig('validpic/precision_recall_curve.png')\n",
    "plt.show()\n",
    "\n",
    "\n",
    "f1 = []\n",
    "thresholds = np.linspace(0,1,101)\n",
    "for t in thresholds:\n",
    "    f1_t = f1_score(y_true, (y_pred > t).argmax(axis=1), average=\"weighted\")\n",
    "    f1.append(f1_t)\n",
    "\n",
    "plt.figure(figsize=(10, 8))\n",
    "for i in range(num_classes):\n",
    "    plt.plot(recall[i], precision[i], lw=2, label=f'{class_names[i]} (Average = {average_precision[i]:.2f})')\n",
    "plt.plot(thresholds, f1, lw=2, label=\"F1 Score\")\n",
    "plt.xlabel(\"Threshold\")\n",
    "plt.ylabel(\"F1\")\n",
    "plt.title(\"F1 Curve\")\n",
    "\n",
    "\n",
    "plt.legend(loc='lower left', bbox_to_anchor=(0, 1))\n",
    "plt.savefig('validpic/f1_curve.png')\n",
    "plt.show()"
   ]
  }
 ],
 "metadata": {
  "accelerator": "GPU",
  "colab": {
   "gpuType": "T4",
   "provenance": []
  },
  "kernelspec": {
   "display_name": "Python 3 (ipykernel)",
   "language": "python",
   "name": "python3"
  },
  "language_info": {
   "codemirror_mode": {
    "name": "ipython",
    "version": 3
   },
   "file_extension": ".py",
   "mimetype": "text/x-python",
   "name": "python",
   "nbconvert_exporter": "python",
   "pygments_lexer": "ipython3",
   "version": "3.11.11"
  }
 },
 "nbformat": 4,
 "nbformat_minor": 4
}
