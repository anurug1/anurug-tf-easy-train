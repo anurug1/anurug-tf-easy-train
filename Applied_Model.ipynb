{
 "cells": [
  {
   "cell_type": "markdown",
   "id": "fa6f374c-8e20-4db3-a896-7ffd8aaab28e",
   "metadata": {},
   "source": [
    "# Flower Classification โดย นายอนุรักษ์  อุปัชฌาย์ \n",
    "\n",
    "## นำเข้าไลบรารีที่จำเป็น\n",
    "```python\n",
    "import numpy as np\n",
    "from tensorflow.keras.preprocessing import image\n",
    "from tensorflow.keras.models import load_model\n",
    "```\n",
    "\n",
    "## ตั้งค่า Path และ โมเดลของภาพ\n",
    "```python\n",
    "# กำหนด path ของภาพและโมเดล\n",
    "img_path = 'exam/flower/11746548_26b3256922_n.jpg'  # แทนที่ด้วย path ของภาพที่ต้องการ\n",
    "model = load_model('models/flower_mode1.keras')\n",
    "```\n",
    "\n",
    "## เตรียมภาพสำหรับการทำนาย\n",
    "```python\n",
    "# กำหนดขนาดของภาพที่โมเดลต้องการ (224x224 สำหรับ VGG16)\n",
    "img_height = 224\n",
    "img_width = 224\n",
    "\n",
    "# โหลดและเตรียมภาพ\n",
    "img = image.load_img(img_path, target_size=(img_height, img_width))  # โหลดภาพและปรับขนาด\n",
    "img_array = image.img_to_array(img)  # แปลงภาพเป็น array\n",
    "img_array = np.expand_dims(img_array, axis=0)  # เพิ่ม dimension สำหรับ batch\n",
    "```\n",
    "\n",
    "## ทำนายคลาสดอกไม้\n",
    "```python\n",
    "# ทำนายผล\n",
    "predictions = model.predict(img_array)\n",
    "\n",
    "# กำหนดชื่อคลาส\n",
    "class_names = ['daisy', 'dandelion', 'roses', 'sunflowers', 'tulips']\n",
    "\n",
    "# หาคลาสที่มีความแม่นยำสูงสุด\n",
    "pred = predictions[0]\n",
    "max_index = np.argmax(pred)  # ดัชนีของคลาสที่มีค่าความน่าจะเป็นสูงสุด\n",
    "predicted_class = class_names[max_index]  # ชื่อคลาสที่ทำนายได้\n",
    "accuracy = pred[max_index] * 100  # ความน่าจะเป็นของคลาสนั้น\n",
    "```\n",
    "\n",
    "## แสดงผลการทำนาย\n",
    "```python\n",
    "# แสดงผลการทำนาย\n",
    "print(f\"Prediction for image: {img_path}\")\n",
    "print(f\"Predicted class: {predicted_class} ({accuracy:.2f}%)\")\n",
    "```\n",
    "\n",
    "## เงื่อนไขการประยุกต์ใช้ค่าความแม่นยำ\n",
    "```python\n",
    "# เงื่อนไขการประยุกต์ใช้ค่าความแม่นยำ\n",
    "confidence_threshold = 80  # ตัวอย่าง: กำหนดค่าความน่าจะเป็นขั้นต่ำที่ 80%\n",
    "if accuracy >= confidence_threshold:\n",
    "    print(f\"The prediction is reliable. The image is classified as '{predicted_class}' with high confidence.\")\n",
    "else:\n",
    "    print(f\"The prediction is uncertain. Confidence ({accuracy:.2f}%) is below the threshold of {confidence_threshold}%.\")\n",
    "```\n",
    "\n",
    "## Notes\n",
    "- สมุดบันทึกนี้สาธิตการจำแนกภาพดอกไม้โดยใช้โมเดลการเรียนรู้เชิงลึก\n",
    "- โมเดลตัวอย่างนี้ได้รับการฝึกฝนให้สามารถจดจำดอกไม้ได้ 5 ประเภท: daisy, dandelion, roses, sunflowers, and tulips\n",
    "- เกณฑ์ความเชื่อมั่น 80% ใช้เพื่อกำหนดความน่าเชื่อถือของการทำนาย\n",
    "\n",
    "**Tip**: เช็คให้แน่ใจว่า Path ถูกต้องก่อนที่จะรันโค้ด\n",
    "## *หมายเหตุ\n",
    "Cell นี้เป็นเพียง Note อธิบายเท่านั้น อย่ากดรันเพราะมันรันไม่ได้"
   ]
  },
  {
   "cell_type": "code",
   "execution_count": 1,
   "id": "0062ed57-102e-434f-9bd8-61dea5ac86b0",
   "metadata": {},
   "outputs": [
    {
     "name": "stdout",
     "output_type": "stream",
     "text": [
      "WARNING:tensorflow:From C:\\Users\\anuru\\anaconda3\\envs\\TF215_Env_Sam\\Lib\\site-packages\\keras\\src\\losses.py:2976: The name tf.losses.sparse_softmax_cross_entropy is deprecated. Please use tf.compat.v1.losses.sparse_softmax_cross_entropy instead.\n",
      "\n"
     ]
    }
   ],
   "source": [
    "from tensorflow.keras.models import load_model\n",
    "from tensorflow.keras.preprocessing import image\n",
    "import numpy as np\n",
    "import os"
   ]
  },
  {
   "cell_type": "code",
   "execution_count": 2,
   "id": "c236cdcc-451e-4c8b-ab2a-8bb34e48608b",
   "metadata": {},
   "outputs": [
    {
     "name": "stdout",
     "output_type": "stream",
     "text": [
      "WARNING:tensorflow:From C:\\Users\\anuru\\anaconda3\\envs\\TF215_Env_Sam\\Lib\\site-packages\\keras\\src\\backend.py:1398: The name tf.executing_eagerly_outside_functions is deprecated. Please use tf.compat.v1.executing_eagerly_outside_functions instead.\n",
      "\n",
      "WARNING:tensorflow:From C:\\Users\\anuru\\anaconda3\\envs\\TF215_Env_Sam\\Lib\\site-packages\\keras\\src\\layers\\pooling\\max_pooling2d.py:161: The name tf.nn.max_pool is deprecated. Please use tf.nn.max_pool2d instead.\n",
      "\n",
      "1/1 [==============================] - 1s 551ms/step\n",
      "Prediction for image: exam/flower/11746548_26b3256922_n.jpg\n",
      "Predicted class: tulips (100.00%)\n",
      "The prediction is reliable. The image is classified as 'tulips' with high confidence.\n"
     ]
    }
   ],
   "source": [
    "# กำหนด path ของภาพและโมเดล\n",
    "img_path = 'exam/flower/11746548_26b3256922_n.jpg'  # แทนที่ด้วย path ของภาพที่ต้องการ\n",
    "model = load_model('models/flower_mode1.keras')\n",
    "\n",
    "# กำหนดขนาดของภาพที่โมเดลต้องการ (224x224 สำหรับ VGG16)\n",
    "img_height = 224\n",
    "img_width = 224\n",
    "\n",
    "# โหลดและเตรียมภาพ\n",
    "img = image.load_img(img_path, target_size=(img_height, img_width))  # โหลดภาพและปรับขนาด\n",
    "img_array = image.img_to_array(img)  # แปลงภาพเป็น array\n",
    "img_array = np.expand_dims(img_array, axis=0)  # เพิ่ม dimension สำหรับ batch\n",
    "\n",
    "# ทำนายผล\n",
    "predictions = model.predict(img_array)\n",
    "\n",
    "# กำหนดชื่อคลาส\n",
    "class_names = ['daisy', 'dandelion', 'roses', 'sunflowers', 'tulips']\n",
    "\n",
    "# หาคลาสที่มีความแม่นยำสูงสุด\n",
    "pred = predictions[0]\n",
    "max_index = np.argmax(pred)  # ดัชนีของคลาสที่มีค่าความน่าจะเป็นสูงสุด\n",
    "predicted_class = class_names[max_index]  # ชื่อคลาสที่ทำนายได้\n",
    "accuracy = pred[max_index] * 100  # ความน่าจะเป็นของคลาสนั้น\n",
    "\n",
    "# แสดงผลการทำนาย\n",
    "print(f\"Prediction for image: {img_path}\")\n",
    "print(f\"Predicted class: {predicted_class} ({accuracy:.2f}%)\")\n",
    "\n",
    "# เงื่อนไขการประยุกต์ใช้ค่าความแม่นยำ\n",
    "confidence_threshold = 80  # ตัวอย่าง: กำหนดค่าความน่าจะเป็นขั้นต่ำที่ 80%\n",
    "if accuracy >= confidence_threshold:\n",
    "    print(f\"The prediction is reliable. The image is classified as '{predicted_class}' with high confidence.\")\n",
    "else:\n",
    "    print(f\"The prediction is uncertain. Confidence ({accuracy:.2f}%) is below the threshold of {confidence_threshold}%.\")"
   ]
  },
  {
   "cell_type": "code",
   "execution_count": null,
   "id": "661221e5-b63e-4c7f-9874-66876d456bca",
   "metadata": {},
   "outputs": [],
   "source": []
  }
 ],
 "metadata": {
  "kernelspec": {
   "display_name": "Python 3 (ipykernel)",
   "language": "python",
   "name": "python3"
  },
  "language_info": {
   "codemirror_mode": {
    "name": "ipython",
    "version": 3
   },
   "file_extension": ".py",
   "mimetype": "text/x-python",
   "name": "python",
   "nbconvert_exporter": "python",
   "pygments_lexer": "ipython3",
   "version": "3.11.10"
  }
 },
 "nbformat": 4,
 "nbformat_minor": 5
}
