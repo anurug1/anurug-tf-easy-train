{
 "cells": [
  {
   "cell_type": "code",
   "execution_count": 1,
   "id": "50307f1b-c5ab-45db-b910-fdf7429c8cdd",
   "metadata": {},
   "outputs": [
    {
     "name": "stderr",
     "output_type": "stream",
     "text": [
      "2025-02-13 00:35:52.573348: E external/local_xla/xla/stream_executor/cuda/cuda_fft.cc:477] Unable to register cuFFT factory: Attempting to register factory for plugin cuFFT when one has already been registered\n",
      "WARNING: All log messages before absl::InitializeLog() is called are written to STDERR\n",
      "E0000 00:00:1739381752.802594  100936 cuda_dnn.cc:8310] Unable to register cuDNN factory: Attempting to register factory for plugin cuDNN when one has already been registered\n",
      "E0000 00:00:1739381752.862798  100936 cuda_blas.cc:1418] Unable to register cuBLAS factory: Attempting to register factory for plugin cuBLAS when one has already been registered\n",
      "2025-02-13 00:35:53.147205: I tensorflow/core/platform/cpu_feature_guard.cc:210] This TensorFlow binary is optimized to use available CPU instructions in performance-critical operations.\n",
      "To enable the following instructions: AVX2 FMA, in other operations, rebuild TensorFlow with the appropriate compiler flags.\n"
     ]
    }
   ],
   "source": [
    "import os\n",
    "import numpy as np\n",
    "from tensorflow.keras.preprocessing import image\n",
    "from tensorflow.keras.models import load_model\n",
    "import tensorflow as tf"
   ]
  },
  {
   "cell_type": "code",
   "execution_count": 3,
   "id": "6270c87b-a5a4-4bf9-8ca5-ab517fcb994b",
   "metadata": {
    "scrolled": true
   },
   "outputs": [
    {
     "name": "stderr",
     "output_type": "stream",
     "text": [
      "2025-02-13 00:37:22.253055: I external/local_xla/xla/service/gpu/autotuning/conv_algorithm_picker.cc:557] Omitted potentially buggy algorithm eng14{k25=0} for conv (f32[20,64,7,7]{3,2,1,0}, u8[0]{0}) custom-call(f32[20,1536,7,7]{3,2,1,0}, f32[64,1536,3,3]{3,2,1,0}, f32[64]{0}), window={size=3x3 pad=1_1x1_1}, dim_labels=bf01_oi01->bf01, custom_call_target=\"__cudnn$convBiasActivationForward\", backend_config={\"cudnn_conv_backend_config\":{\"activation_mode\":\"kRelu\",\"conv_result_scale\":1,\"leakyrelu_alpha\":0,\"side_input_scale\":0},\"force_earliest_schedule\":false,\"operation_queue_id\":\"0\",\"wait_on_operation_queues\":[]}\n"
     ]
    },
    {
     "name": "stdout",
     "output_type": "stream",
     "text": [
      "\u001b[1m1/1\u001b[0m \u001b[32m━━━━━━━━━━━━━━━━━━━━\u001b[0m\u001b[37m\u001b[0m \u001b[1m18s\u001b[0m 18s/step\n",
      "Top 3 predictions for image exam/chest_xray/NORMAL-9987806-0001.jpeg:\n",
      "PNEUMONIA: 100.00%\n",
      "NORMAL: 0.00%\n",
      "\n",
      "Top 3 predictions for image exam/chest_xray/NORMAL-9964713-0001.jpeg:\n",
      "PNEUMONIA: 100.00%\n",
      "NORMAL: 0.00%\n",
      "\n",
      "Top 3 predictions for image exam/chest_xray/NORMAL-9953282-0001.jpeg:\n",
      "PNEUMONIA: 100.00%\n",
      "NORMAL: 0.00%\n",
      "\n",
      "Top 3 predictions for image exam/chest_xray/NORMAL-9987806-0002.jpeg:\n",
      "PNEUMONIA: 100.00%\n",
      "NORMAL: 0.00%\n",
      "\n",
      "Top 3 predictions for image exam/chest_xray/VIRUS-9968655-0001.jpeg:\n",
      "PNEUMONIA: 100.00%\n",
      "NORMAL: 0.00%\n",
      "\n",
      "Top 3 predictions for image exam/chest_xray/VIRUS-9947411-0002.jpeg:\n",
      "PNEUMONIA: 100.00%\n",
      "NORMAL: 0.00%\n",
      "\n",
      "Top 3 predictions for image exam/chest_xray/NORMAL-9989984-0001.jpeg:\n",
      "PNEUMONIA: 100.00%\n",
      "NORMAL: 0.00%\n",
      "\n",
      "Top 3 predictions for image exam/chest_xray/NORMAL-9978536-0001.jpeg:\n",
      "PNEUMONIA: 100.00%\n",
      "NORMAL: 0.00%\n",
      "\n",
      "Top 3 predictions for image exam/chest_xray/VIRUS-9916753-0001.jpeg:\n",
      "PNEUMONIA: 100.00%\n",
      "NORMAL: 0.00%\n",
      "\n",
      "Top 3 predictions for image exam/chest_xray/VIRUS-9922492-0002.jpeg:\n",
      "PNEUMONIA: 100.00%\n",
      "NORMAL: 0.00%\n",
      "\n",
      "Top 3 predictions for image exam/chest_xray/NORMAL-9965170-0001.jpeg:\n",
      "PNEUMONIA: 100.00%\n",
      "NORMAL: 0.00%\n",
      "\n",
      "Top 3 predictions for image exam/chest_xray/VIRUS-9963654-0001.jpeg:\n",
      "PNEUMONIA: 100.00%\n",
      "NORMAL: 0.00%\n",
      "\n",
      "Top 3 predictions for image exam/chest_xray/VIRUS-9962961-0002.jpeg:\n",
      "PNEUMONIA: 100.00%\n",
      "NORMAL: 0.00%\n",
      "\n",
      "Top 3 predictions for image exam/chest_xray/NORMAL-9959874-0001.jpeg:\n",
      "PNEUMONIA: 100.00%\n",
      "NORMAL: 0.00%\n",
      "\n",
      "Top 3 predictions for image exam/chest_xray/NORMAL-9985167-0001.jpeg:\n",
      "PNEUMONIA: 94.26%\n",
      "NORMAL: 5.74%\n",
      "\n",
      "Top 3 predictions for image exam/chest_xray/VIRUS-9975428-0002.jpeg:\n",
      "PNEUMONIA: 100.00%\n",
      "NORMAL: 0.00%\n",
      "\n",
      "Top 3 predictions for image exam/chest_xray/NORMAL-9990348-0001.jpeg:\n",
      "PNEUMONIA: 100.00%\n",
      "NORMAL: 0.00%\n",
      "\n",
      "Top 3 predictions for image exam/chest_xray/VIRUS-9922025-0002.jpeg:\n",
      "PNEUMONIA: 100.00%\n",
      "NORMAL: 0.00%\n",
      "\n",
      "Top 3 predictions for image exam/chest_xray/VIRUS-9902199-0004.jpeg:\n",
      "PNEUMONIA: 100.00%\n",
      "NORMAL: 0.00%\n",
      "\n",
      "Top 3 predictions for image exam/chest_xray/VIRUS-9934736-0003.jpeg:\n",
      "PNEUMONIA: 100.00%\n",
      "NORMAL: 0.00%\n",
      "\n"
     ]
    }
   ],
   "source": [
    "img_folder = 'exam/chest_xray'\n",
    "model = load_model('models/EfficientNetB3chest_xray100.keras')\n",
    "\n",
    "img_height = 224\n",
    "img_width = 224\n",
    "\n",
    "# โหลดไฟล์ภาพทั้งหมดจากโฟลเดอร์\n",
    "img_paths = [os.path.join(img_folder, fname) for fname in os.listdir(img_folder) if fname.endswith(('.png', '.jpg', '.jpeg'))]\n",
    "images = []\n",
    "\n",
    "# โหลดภาพทีละภาพและปรับขนาดให้ตรงกับขนาดที่โมเดลต้องการ\n",
    "for img_path in img_paths:\n",
    "    img = image.load_img(img_path, target_size=(img_height, img_width))\n",
    "    img_array = image.img_to_array(img)  # แปลงภาพเป็น array\n",
    "    img_array = np.expand_dims(img_array, axis=0)  # เพิ่ม dimension สำหรับ batch\n",
    "    images.append(img_array)\n",
    "\n",
    "images = np.vstack(images)\n",
    "predictions = model.predict(images)\n",
    "\n",
    "class_names = ['NORMAL', 'PNEUMONIA']\n",
    "\n",
    "for i, pred in enumerate(predictions):\n",
    "    top_3_indices = np.argsort(pred)[::-1][:3]  # จัดลำดับจากมากไปน้อยแล้วเลือก 3 อันดับแรก\n",
    "    print(f\"Top 3 predictions for image {img_paths[i]}:\")\n",
    "    for index in top_3_indices:\n",
    "        predicted_class = class_names[index]\n",
    "        predicted_probability = pred[index] * 100  # ความน่าจะเป็นของคลาส\n",
    "        print(f\"{predicted_class}: {predicted_probability:.2f}%\")\n",
    "    print()  "
   ]
  },
  {
   "cell_type": "code",
   "execution_count": null,
   "id": "b894270f-53ac-4604-be5e-ba308fb7d2f6",
   "metadata": {},
   "outputs": [],
   "source": []
  }
 ],
 "metadata": {
  "kernelspec": {
   "display_name": "Python 3 (ipykernel)",
   "language": "python",
   "name": "python3"
  },
  "language_info": {
   "codemirror_mode": {
    "name": "ipython",
    "version": 3
   },
   "file_extension": ".py",
   "mimetype": "text/x-python",
   "name": "python",
   "nbconvert_exporter": "python",
   "pygments_lexer": "ipython3",
   "version": "3.11.11"
  }
 },
 "nbformat": 4,
 "nbformat_minor": 5
}
